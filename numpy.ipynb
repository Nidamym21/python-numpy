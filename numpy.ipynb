{
 "cells": [
  {
   "cell_type": "markdown",
   "id": "221487c7-28c5-46e1-ad32-ab03793b0fba",
   "metadata": {},
   "source": [
    "# Numpy"
   ]
  },
  {
   "cell_type": "code",
   "execution_count": 1,
   "id": "de4b2681-0795-4e05-87ab-ede984c0df96",
   "metadata": {},
   "outputs": [
    {
     "name": "stdout",
     "output_type": "stream",
     "text": [
      "Requirement already satisfied: numpy in c:\\users\\hp\\anaconda3\\lib\\site-packages (1.26.4)\n"
     ]
    }
   ],
   "source": [
    "! pip install numpy"
   ]
  },
  {
   "cell_type": "code",
   "execution_count": 2,
   "id": "2c0bb1e9-4c63-40d2-9366-b29f186cb660",
   "metadata": {},
   "outputs": [
    {
     "name": "stdout",
     "output_type": "stream",
     "text": [
      "[1 2 3]\n"
     ]
    }
   ],
   "source": [
    "import numpy as np\n",
    "\n",
    "arr=np.array([1,2,3])\n",
    "print(arr)"
   ]
  },
  {
   "cell_type": "code",
   "execution_count": 3,
   "id": "0857d4d5-5bf2-47a9-ac7f-20d19f5915a0",
   "metadata": {},
   "outputs": [
    {
     "name": "stdout",
     "output_type": "stream",
     "text": [
      "[[1 2 3]\n",
      " [4 5 6]]\n"
     ]
    }
   ],
   "source": [
    "\n",
    "arr=np.array([(1,2,3),(4,5,6)])\n",
    "print(arr)"
   ]
  },
  {
   "cell_type": "markdown",
   "id": "10fa4e5c-7776-4dc0-a723-a352b81127fd",
   "metadata": {},
   "source": [
    "## Creating a 1D NumPy array\n"
   ]
  },
  {
   "cell_type": "code",
   "execution_count": 10,
   "id": "cb6fd47b-0039-41e5-a227-0d2de98979d8",
   "metadata": {},
   "outputs": [
    {
     "name": "stdout",
     "output_type": "stream",
     "text": [
      "[1 2 3 4 5]\n"
     ]
    }
   ],
   "source": [
    "import numpy as np\n",
    "\n",
    "# Create a 1D array (list of numbers)\n",
    "arr = np.array([1, 2, 3, 4, 5])\n",
    "\n",
    "print(arr)\n"
   ]
  },
  {
   "cell_type": "markdown",
   "id": "2a15ce22-b8cd-4401-a80c-74c25e379d60",
   "metadata": {},
   "source": [
    "## Creating a 2D NumPy array"
   ]
  },
  {
   "cell_type": "code",
   "execution_count": 13,
   "id": "7b94cabf-d8bd-4e1d-9eec-9d947251bcba",
   "metadata": {},
   "outputs": [
    {
     "name": "stdout",
     "output_type": "stream",
     "text": [
      "[[1 2 3]\n",
      " [4 5 6]]\n"
     ]
    }
   ],
   "source": [
    "# Create a 2D array (matrix of numbers)\n",
    "matrix = np.array([[1, 2, 3], [4, 5, 6]])\n",
    "\n",
    "print(matrix)\n",
    "\n"
   ]
  },
  {
   "cell_type": "markdown",
   "id": "8bf4d5aa-1caf-46a5-abef-fba7b00ec82c",
   "metadata": {},
   "source": [
    "## Creating a 3D NumPy array"
   ]
  },
  {
   "cell_type": "code",
   "execution_count": 14,
   "id": "8257e92c-489b-4022-8cba-6a3b84c1eb07",
   "metadata": {},
   "outputs": [
    {
     "name": "stdout",
     "output_type": "stream",
     "text": [
      "[[[ 1  2  3]\n",
      "  [ 4  5  6]]\n",
      "\n",
      " [[ 7  8  9]\n",
      "  [10 11 12]]]\n"
     ]
    }
   ],
   "source": [
    "arr=np.array([[(1,2,3),(4,5,6)],[(7,8,9),(10,11,12)]])\n",
    "print(arr)"
   ]
  },
  {
   "cell_type": "markdown",
   "id": "e414ebf6-368c-469b-974e-03cfa244b5a5",
   "metadata": {},
   "source": [
    "## Creating a 4D NumPy array"
   ]
  },
  {
   "cell_type": "code",
   "execution_count": 15,
   "id": "5352edd7-78d7-462e-af17-cc5d99e13fd3",
   "metadata": {},
   "outputs": [
    {
     "name": "stdout",
     "output_type": "stream",
     "text": [
      "[[[[ 1  2  3]\n",
      "   [ 4  5  6]]\n",
      "\n",
      "  [[ 7  8  9]\n",
      "   [10 11 12]]]\n",
      "\n",
      "\n",
      " [[[ 1  2  3]\n",
      "   [ 4  5  6]]\n",
      "\n",
      "  [[ 7  8  9]\n",
      "   [10 11 12]]]]\n"
     ]
    }
   ],
   "source": [
    "\n",
    "arr=np.array([[[(1,2,3),(4,5,6)],[(7,8,9),(10,11,12)]],[[(1,2,3),(4,5,6)],[(7,8,9),(10,11,12)]]])\n",
    "print(arr)"
   ]
  },
  {
   "cell_type": "markdown",
   "id": "adbd77db-32cf-4e2a-b4b4-e34768d65145",
   "metadata": {},
   "source": [
    "## Creating a 5D NumPy array"
   ]
  },
  {
   "cell_type": "code",
   "execution_count": 16,
   "id": "a5d7f328-e8d1-422a-bc99-6fc2c13656c4",
   "metadata": {},
   "outputs": [
    {
     "name": "stdout",
     "output_type": "stream",
     "text": [
      "[[[[[ 1  2  3]\n",
      "    [ 4  5  6]]\n",
      "\n",
      "   [[ 7  8  9]\n",
      "    [10 11 12]]]\n",
      "\n",
      "\n",
      "  [[[ 1  2  3]\n",
      "    [ 4  5  6]]\n",
      "\n",
      "   [[ 7  8  9]\n",
      "    [10 11 12]]]]\n",
      "\n",
      "\n",
      "\n",
      " [[[[ 1  2  3]\n",
      "    [ 4  5  6]]\n",
      "\n",
      "   [[ 7  8  9]\n",
      "    [10 11 12]]]\n",
      "\n",
      "\n",
      "  [[[ 1  2  3]\n",
      "    [ 4  5  6]]\n",
      "\n",
      "   [[ 7  8  9]\n",
      "    [10 11 12]]]]]\n"
     ]
    }
   ],
   "source": [
    "\n",
    "arr=np.array([[[[(1,2,3),(4,5,6)],[(7,8,9),(10,11,12)]],[[(1,2,3),(4,5,6)],[(7,8,9),(10,11,12)]]],[[[(1,2,3),(4,5,6)],[(7,8,9),(10,11,12)]],[[(1,2,3),(4,5,6)],[(7,8,9),(10,11,12)]]]])\n",
    "print(arr)"
   ]
  },
  {
   "cell_type": "markdown",
   "id": "7db3d4fb-ecac-4b95-99f9-a987cf7b1472",
   "metadata": {},
   "source": [
    "## Creating an array with random values"
   ]
  },
  {
   "cell_type": "code",
   "execution_count": 6,
   "id": "af30d541-cfee-4e31-aabe-3f187777a28d",
   "metadata": {},
   "outputs": [
    {
     "name": "stdout",
     "output_type": "stream",
     "text": [
      "[[0.63435698 0.09350799 0.93420727 0.78928454 0.04401474 0.7007759\n",
      "  0.4625732  0.04163713]\n",
      " [0.24825078 0.31004195 0.6474789  0.11336891 0.32431024 0.84521196\n",
      "  0.61240511 0.19969126]\n",
      " [0.74827531 0.07050314 0.49313613 0.09023778 0.23832666 0.35853506\n",
      "  0.98822206 0.28237875]\n",
      " [0.31810759 0.46825812 0.73752101 0.30408527 0.25852099 0.38370822\n",
      "  0.31742331 0.17296597]]\n"
     ]
    }
   ],
   "source": [
    "\n",
    "#create an array with random value\n",
    "a = np.random.random((4,8))\n",
    "print(a)"
   ]
  },
  {
   "cell_type": "markdown",
   "id": "c48f3a4d-8397-46a6-a647-68a616e2e66d",
   "metadata": {},
   "source": [
    "## Creating an array of ones"
   ]
  },
  {
   "cell_type": "code",
   "execution_count": 18,
   "id": "fd4a86d1-1d4e-453c-89a3-9e5174633222",
   "metadata": {},
   "outputs": [
    {
     "name": "stdout",
     "output_type": "stream",
     "text": [
      "[1. 1. 1. 1.]\n"
     ]
    }
   ],
   "source": [
    "\n",
    "ones_array = np.ones(4)\n",
    "\n",
    "print(ones_array)\n"
   ]
  },
  {
   "cell_type": "markdown",
   "id": "2c37f738-815e-42f2-b942-d199b74ef239",
   "metadata": {},
   "source": [
    "# Intial Placeholders\n",
    "In NumPy, initial placeholders are arrays filled with default values, such as zeros, ones, or empty values, which are useful when you want to create arrays to fill later"
   ]
  },
  {
   "cell_type": "markdown",
   "id": "d155837e-6dc8-4c16-bf94-adaa6d231c6e",
   "metadata": {},
   "source": [
    "## Array of Zeros (np.zeros)\n",
    "\n",
    "\n",
    "Creates an array of all zeros."
   ]
  },
  {
   "cell_type": "code",
   "execution_count": 20,
   "id": "3e447ab7-8125-4f49-b657-0f7a2510dd32",
   "metadata": {},
   "outputs": [
    {
     "name": "stdout",
     "output_type": "stream",
     "text": [
      "[0. 0. 0. 0. 0.]\n",
      "[[0. 0. 0.]\n",
      " [0. 0. 0.]\n",
      " [0. 0. 0.]]\n"
     ]
    }
   ],
   "source": [
    "import numpy as np\n",
    "\n",
    "# 1D array of zeros with 5 elements\n",
    "zeros_array = np.zeros(5)\n",
    "\n",
    "# 2D array of zeros (3x3 matrix)\n",
    "zeros_matrix = np.zeros((3, 3))\n",
    "\n",
    "print(zeros_array)\n",
    "print(zeros_matrix)\n"
   ]
  },
  {
   "cell_type": "markdown",
   "id": "46eb4b1b-0769-4cda-abec-4093aee76cd6",
   "metadata": {},
   "source": [
    "## Array Filled with a Specific Value (np.full)\n",
    "\n",
    "\n",
    "Creates an array filled with a specific value."
   ]
  },
  {
   "cell_type": "code",
   "execution_count": 21,
   "id": "635e383c-5936-4192-a17a-35f514454018",
   "metadata": {},
   "outputs": [
    {
     "name": "stdout",
     "output_type": "stream",
     "text": [
      "[7 7 7 7 7]\n",
      "[[9 9 9]\n",
      " [9 9 9]\n",
      " [9 9 9]]\n"
     ]
    }
   ],
   "source": [
    "# 1D array of 5 elements, all set to 7\n",
    "full_array = np.full(5, 7)\n",
    "\n",
    "# 2D array (3x3 matrix) with all elements set to 9\n",
    "full_matrix = np.full((3, 3), 9)\n",
    "\n",
    "print(full_array)\n",
    "print(full_matrix)\n"
   ]
  },
  {
   "cell_type": "markdown",
   "id": "0e9054d4-0664-45db-b72b-203ba1a310fa",
   "metadata": {},
   "source": [
    "## Array with Uninitialized Values (np.empty)\n",
    "\n",
    "\n",
    "Creates an uninitialized array (faster, but contents are random)."
   ]
  },
  {
   "cell_type": "code",
   "execution_count": 22,
   "id": "f7aec4a3-54cd-4061-a0f5-f297764625dd",
   "metadata": {},
   "outputs": [
    {
     "name": "stdout",
     "output_type": "stream",
     "text": [
      "[0. 0. 0. 0. 0.]\n",
      "[[1. 1.]\n",
      " [1. 1.]]\n"
     ]
    }
   ],
   "source": [
    "# 1D array with 5 elements (values are uninitialized)\n",
    "empty_array = np.empty(5)\n",
    "\n",
    "# 2D array (2x2 matrix) with uninitialized values\n",
    "empty_matrix = np.empty((2, 2))\n",
    "\n",
    "print(empty_array)\n",
    "print(empty_matrix)\n"
   ]
  },
  {
   "cell_type": "markdown",
   "id": "98acbe96-c470-4db2-8d83-8af06c8ba973",
   "metadata": {},
   "source": [
    "## Array of Ones (np.ones)\n",
    "\n",
    "\n",
    " Creates an array of all ones."
   ]
  },
  {
   "cell_type": "code",
   "execution_count": 23,
   "id": "edc27d49-2a89-411f-8926-bff3a8c23705",
   "metadata": {},
   "outputs": [
    {
     "name": "stdout",
     "output_type": "stream",
     "text": [
      "[1. 1. 1. 1.]\n",
      "[[1. 1.]\n",
      " [1. 1.]\n",
      " [1. 1.]]\n"
     ]
    }
   ],
   "source": [
    "# 1D array of ones with 4 elements\n",
    "ones_array = np.ones(4)\n",
    "\n",
    "# 2D array of ones (3x2 matrix)\n",
    "ones_matrix = np.ones((3, 2))\n",
    "\n",
    "print(ones_array)\n",
    "print(ones_matrix)\n"
   ]
  },
  {
   "cell_type": "markdown",
   "id": "1dbd8846-d318-40fa-ae0b-9611d0a637a7",
   "metadata": {},
   "source": [
    "# Slicing in Numpy\n",
    "\n",
    "- In NumPy, slicing is used to access specific parts of arrays (subarrays) using indices. It allows you to select elements, rows, columns, or portions of arrays based on your needs\n",
    "\n",
    "- Slicing is a powerful feature that allows efficient access and manipulation of array elements."
   ]
  },
  {
   "cell_type": "markdown",
   "id": "67161f06-5eac-4a34-a834-81304cb75f74",
   "metadata": {},
   "source": [
    "## 1D Array Slicing\n",
    "\n",
    "Selects portions of a 1D array.\n"
   ]
  },
  {
   "cell_type": "code",
   "execution_count": 1,
   "id": "a303647e-500b-4487-b7dd-4c84f9f4b227",
   "metadata": {},
   "outputs": [
    {
     "name": "stdout",
     "output_type": "stream",
     "text": [
      "[20 30 40]\n",
      "[10 30 50]\n"
     ]
    }
   ],
   "source": [
    "import numpy as np\n",
    "\n",
    "arr = np.array([10, 20, 30, 40, 50, 60])\n",
    "\n",
    "# Slicing from index 1 to 4 (exclusive)\n",
    "slice1 = arr[1:4]\n",
    "\n",
    "# Slicing with step size of 2\n",
    "slice2 = arr[::2]\n",
    "\n",
    "print(slice1)  \n",
    "print(slice2)  \n"
   ]
  },
  {
   "cell_type": "markdown",
   "id": "66bdf944-b809-44fc-bc40-3291a31b2c96",
   "metadata": {},
   "source": [
    "## 2D Array Slicing\n",
    "Selects rows and columns from 2D arrays."
   ]
  },
  {
   "cell_type": "code",
   "execution_count": 2,
   "id": "dfef50b5-ef98-45ac-9a37-7ac5d0dfd0dd",
   "metadata": {},
   "outputs": [
    {
     "name": "stdout",
     "output_type": "stream",
     "text": [
      "[[1 2 3]\n",
      " [4 5 6]]\n",
      "[[1 2]\n",
      " [4 5]\n",
      " [7 8]]\n",
      "[5 6]\n"
     ]
    }
   ],
   "source": [
    "matrix = np.array([[1, 2, 3], \n",
    "                   [4, 5, 6], \n",
    "                   [7, 8, 9]])\n",
    "\n",
    "# Slice first two rows and all columns\n",
    "slice1 = matrix[:2, :]\n",
    "\n",
    "# Slice all rows and first two columns\n",
    "slice2 = matrix[:, :2]\n",
    "\n",
    "# Slice second row, second and third columns\n",
    "slice3 = matrix[1, 1:3]\n",
    "\n",
    "print(slice1)\n",
    "print(slice2)\n",
    "print(slice3)\n"
   ]
  },
  {
   "cell_type": "markdown",
   "id": "cf540757-b040-45e2-ae18-55edfc144ff3",
   "metadata": {},
   "source": [
    "## Negative Indexing\n",
    "\n",
    "Negative indexing allows you to slice arrays from the end."
   ]
  },
  {
   "cell_type": "code",
   "execution_count": 3,
   "id": "0795a5e9-90f9-4d17-8318-36028adcffa9",
   "metadata": {},
   "outputs": [
    {
     "name": "stdout",
     "output_type": "stream",
     "text": [
      "[30 40 50]\n"
     ]
    }
   ],
   "source": [
    "arr = np.array([10, 20, 30, 40, 50])\n",
    "\n",
    "# Slicing last three elements\n",
    "slice1 = arr[-3:]\n",
    "\n",
    "print(slice1)  # Output: [30 40 50]\n"
   ]
  },
  {
   "cell_type": "markdown",
   "id": "e36c906c-a655-43a9-a350-8e36e88029e6",
   "metadata": {},
   "source": [
    "## Slicing with Steps\n",
    "\n",
    "Skips elements or reverses arrays."
   ]
  },
  {
   "cell_type": "code",
   "execution_count": 5,
   "id": "0327579c-10cb-4ac0-87c2-a53eeac68398",
   "metadata": {},
   "outputs": [
    {
     "name": "stdout",
     "output_type": "stream",
     "text": [
      "[1 3 5 7 9]\n",
      "[9 8 7 6 5 4 3 2 1]\n"
     ]
    }
   ],
   "source": [
    "arr = np.array([1, 2, 3, 4, 5, 6, 7, 8, 9])\n",
    "\n",
    "# Slicing with a step of 2 (every second element)\n",
    "slice1 = arr[::2]\n",
    "\n",
    "# Reverse the array\n",
    "reverse_slice = arr[::-1]\n",
    "\n",
    "print(slice1)         # Output: [1 3 5 7 9]\n",
    "print(reverse_slice)  # Output: [9 8 7 6 5 4 3 2 1]\n"
   ]
  },
  {
   "cell_type": "markdown",
   "id": "42c1dadb-ba6c-4832-a089-4e61e2fc3888",
   "metadata": {},
   "source": [
    "## Numpy Datatypes\n",
    "\n",
    "NumPy supports a variety of data types (called dtypes) for its arrays, allowing efficient storage and manipulation of data."
   ]
  },
  {
   "cell_type": "markdown",
   "id": "cacfe57f-0c86-4301-a286-2096c32269d7",
   "metadata": {},
   "source": [
    "## 1. Integer Types (Whole numbers)"
   ]
  },
  {
   "cell_type": "code",
   "execution_count": 1,
   "id": "17da009f-55de-4a5b-a092-d1be52b42448",
   "metadata": {},
   "outputs": [
    {
     "name": "stdout",
     "output_type": "stream",
     "text": [
      "[1 2 3] int8\n"
     ]
    }
   ],
   "source": [
    "import numpy as np\n",
    "\n",
    "int_array = np.array([1, 2, 3], dtype=np.int8)\n",
    "print(int_array, int_array.dtype)\n"
   ]
  },
  {
   "cell_type": "markdown",
   "id": "2ee8b3bc-a397-4833-8132-349fe9223e14",
   "metadata": {},
   "source": [
    "## 2. Float Types (Decimal numbers)\n"
   ]
  },
  {
   "cell_type": "code",
   "execution_count": 2,
   "id": "6d82518b-db2b-452f-a8fb-97fc0e803511",
   "metadata": {},
   "outputs": [
    {
     "name": "stdout",
     "output_type": "stream",
     "text": [
      "[1.1 2.2 3.3] float32\n"
     ]
    }
   ],
   "source": [
    "float_array = np.array([1.1, 2.2, 3.3], dtype=np.float32)\n",
    "print(float_array, float_array.dtype)\n"
   ]
  },
  {
   "cell_type": "markdown",
   "id": "e9bb780f-ea44-4e19-a3c0-d8b678db5c90",
   "metadata": {},
   "source": [
    "## 3. Complex Types (Numbers with real and imaginary parts)"
   ]
  },
  {
   "cell_type": "code",
   "execution_count": 4,
   "id": "ef5a5891-1067-445c-85b3-e0e965066af0",
   "metadata": {},
   "outputs": [
    {
     "name": "stdout",
     "output_type": "stream",
     "text": [
      "[1.+2.j 3.+4.j] complex64\n"
     ]
    }
   ],
   "source": [
    "complex_array = np.array([1+2j, 3+4j], dtype=np.complex64)\n",
    "print(complex_array, complex_array.dtype)\n"
   ]
  },
  {
   "cell_type": "markdown",
   "id": "19da7f67-e147-43cf-9aec-64a302ea3553",
   "metadata": {},
   "source": [
    "## 4. Boolean Type (True/False values)"
   ]
  },
  {
   "cell_type": "code",
   "execution_count": 5,
   "id": "a362e638-0050-477c-b232-48e7b91d21b6",
   "metadata": {},
   "outputs": [
    {
     "name": "stdout",
     "output_type": "stream",
     "text": [
      "[ True False  True] bool\n"
     ]
    }
   ],
   "source": [
    "bool_array = np.array([True, False, True], dtype=np.bool_)\n",
    "print(bool_array, bool_array.dtype)\n"
   ]
  },
  {
   "cell_type": "markdown",
   "id": "1616d9b1-b4b2-41fe-b46e-d95964c62ea6",
   "metadata": {},
   "source": [
    "## 5. String Type (Text)"
   ]
  },
  {
   "cell_type": "code",
   "execution_count": 7,
   "id": "3cf36380-d813-4986-af52-da012c91bb3d",
   "metadata": {},
   "outputs": [
    {
     "name": "stdout",
     "output_type": "stream",
     "text": [
      "['apple' 'banana' 'cherry'] <U6\n"
     ]
    }
   ],
   "source": [
    "str_array = np.array(['apple', 'banana', 'cherry'], dtype=np.str_)\n",
    "print(str_array, str_array.dtype)\n"
   ]
  },
  {
   "cell_type": "markdown",
   "id": "354214db-4012-4d64-aa2c-80436a4b7f25",
   "metadata": {},
   "source": [
    "##### Other examples"
   ]
  },
  {
   "cell_type": "code",
   "execution_count": 8,
   "id": "ec23fe6e-0ef6-4329-89c9-3e1c36824d72",
   "metadata": {},
   "outputs": [
    {
     "name": "stdout",
     "output_type": "stream",
     "text": [
      "[10 11 12 13]\n",
      "int64\n"
     ]
    }
   ],
   "source": [
    "arr=np.array([10,11,12,13],dtype='i8')\n",
    "print(arr)\n",
    "print(arr.dtype)\n",
    "     "
   ]
  },
  {
   "cell_type": "code",
   "execution_count": 9,
   "id": "2e0d900d-98b0-4574-940f-a1e4ff3e9e93",
   "metadata": {},
   "outputs": [
    {
     "name": "stdout",
     "output_type": "stream",
     "text": [
      "[2.1 5.3 5.7]\n",
      "[2 5 5]\n"
     ]
    }
   ],
   "source": [
    "\n",
    "arr=np.array([2.1,5.3,5.7])\n",
    "newarr=arr.astype('i')\n",
    "print(arr)\n",
    "print(newarr)"
   ]
  },
  {
   "cell_type": "code",
   "execution_count": null,
   "id": "e9985a85-9cbc-45b0-9d3c-81df10594142",
   "metadata": {},
   "outputs": [],
   "source": []
  }
 ],
 "metadata": {
  "kernelspec": {
   "display_name": "Python 3 (ipykernel)",
   "language": "python",
   "name": "python3"
  },
  "language_info": {
   "codemirror_mode": {
    "name": "ipython",
    "version": 3
   },
   "file_extension": ".py",
   "mimetype": "text/x-python",
   "name": "python",
   "nbconvert_exporter": "python",
   "pygments_lexer": "ipython3",
   "version": "3.12.4"
  }
 },
 "nbformat": 4,
 "nbformat_minor": 5
}
